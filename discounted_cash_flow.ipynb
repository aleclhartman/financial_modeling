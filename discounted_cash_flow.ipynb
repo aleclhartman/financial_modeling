{
 "cells": [
  {
   "cell_type": "markdown",
   "metadata": {},
   "source": [
    "# Discounted Cash Flow"
   ]
  },
  {
   "cell_type": "code",
   "execution_count": 1,
   "metadata": {},
   "outputs": [],
   "source": [
    "import numpy as np\n",
    "import pandas as pd"
   ]
  },
  {
   "cell_type": "markdown",
   "metadata": {},
   "source": [
    "## What is the investment return I can expect if I invest my money?\n",
    "\n",
    "<p align=\"center\">\n",
    "  <img src=\"https://render.githubusercontent.com/render/math?math=\\LARGE FV_{t} = PV \\times (1 %2B r_{t})^{t}\"><br/>\n",
    "  <img src=\"https://render.githubusercontent.com/render/math?math=FV_{t}:\\Future+\\value+\\at+\\time+\\t\"><br/>  \n",
    "  <img src=\"https://render.githubusercontent.com/render/math?math=PV:\\Present+\\value\"><br/> \n",
    "  <img src=\"https://render.githubusercontent.com/render/math?math=r_{t}:\\interest+\\rate+\\at+\\time+\\t\"><br/>\n",
    "</p>"
   ]
  },
  {
   "cell_type": "code",
   "execution_count": 2,
   "metadata": {},
   "outputs": [
    {
     "name": "stdout",
     "output_type": "stream",
     "text": [
      "$880,000\n"
     ]
    }
   ],
   "source": [
    "# calculate future value of money by multiplying the present\n",
    "# value by the interest rate plus 1 raised to the length\n",
    "# of your investment\n",
    "\n",
    "# t == 1 year\n",
    "\n",
    "print(f\"${round(800000 * ((1 + .10)**1)):,}\")"
   ]
  },
  {
   "cell_type": "markdown",
   "metadata": {},
   "source": [
    "## How much is the future $1,000,000 worth today?\n",
    "\n",
    "<p align=\"center\">\n",
    "  <br/><img src=\"https://render.githubusercontent.com/render/math?math=\\LARGE PV = \\frac{FV_{t}}{(1 %2B r_{t})^t}\"><br/>\n",
    "  <img src=\"https://render.githubusercontent.com/render/math?math=PV:\\Present+\\value\"><br/>  \n",
    "  <img src=\"https://render.githubusercontent.com/render/math?math=FV_{t}:\\Future+\\value+\\at+\\time+\\t\"><br/>\n",
    "  <img src=\"https://render.githubusercontent.com/render/math?math=r_{t}:\\interest+\\rate+\\at+\\time+\\t\"><br/>  \n",
    "</p>"
   ]
  },
  {
   "cell_type": "code",
   "execution_count": 3,
   "metadata": {},
   "outputs": [
    {
     "name": "stdout",
     "output_type": "stream",
     "text": [
      "$909,091\n"
     ]
    }
   ],
   "source": [
    "print(f\"${round(1_000_000 / (1 + .10)**1):,}\")"
   ]
  },
  {
   "cell_type": "markdown",
   "metadata": {},
   "source": [
    "# Business Case\n",
    "\n",
    "Assume you have written a contract which:\n",
    "\n",
    "- Receives $12,000 at the beginning of the first year from the client;\n",
    "\n",
    "- Pays an estimate of $2,000 claims at the end each year to the client for five years;\n",
    "\n",
    "- You can invest in US government bond which has an interest rate of 2.5%;"
   ]
  },
  {
   "cell_type": "code",
   "execution_count": 4,
   "metadata": {},
   "outputs": [
    {
     "data": {
      "text/html": [
       "<div>\n",
       "<style scoped>\n",
       "    .dataframe tbody tr th:only-of-type {\n",
       "        vertical-align: middle;\n",
       "    }\n",
       "\n",
       "    .dataframe tbody tr th {\n",
       "        vertical-align: top;\n",
       "    }\n",
       "\n",
       "    .dataframe thead th {\n",
       "        text-align: right;\n",
       "    }\n",
       "</style>\n",
       "<table border=\"1\" class=\"dataframe\">\n",
       "  <thead>\n",
       "    <tr style=\"text-align: right;\">\n",
       "      <th></th>\n",
       "      <th>year</th>\n",
       "      <th>cash_flows</th>\n",
       "      <th>interest_rate</th>\n",
       "    </tr>\n",
       "  </thead>\n",
       "  <tbody>\n",
       "    <tr>\n",
       "      <th>0</th>\n",
       "      <td>0</td>\n",
       "      <td>12000</td>\n",
       "      <td>0.025</td>\n",
       "    </tr>\n",
       "    <tr>\n",
       "      <th>1</th>\n",
       "      <td>1</td>\n",
       "      <td>-2000</td>\n",
       "      <td>0.025</td>\n",
       "    </tr>\n",
       "    <tr>\n",
       "      <th>2</th>\n",
       "      <td>2</td>\n",
       "      <td>-2000</td>\n",
       "      <td>0.025</td>\n",
       "    </tr>\n",
       "    <tr>\n",
       "      <th>3</th>\n",
       "      <td>3</td>\n",
       "      <td>-2000</td>\n",
       "      <td>0.025</td>\n",
       "    </tr>\n",
       "    <tr>\n",
       "      <th>4</th>\n",
       "      <td>4</td>\n",
       "      <td>-2000</td>\n",
       "      <td>0.025</td>\n",
       "    </tr>\n",
       "    <tr>\n",
       "      <th>5</th>\n",
       "      <td>5</td>\n",
       "      <td>-2000</td>\n",
       "      <td>0.025</td>\n",
       "    </tr>\n",
       "  </tbody>\n",
       "</table>\n",
       "</div>"
      ],
      "text/plain": [
       "   year  cash_flows  interest_rate\n",
       "0     0       12000          0.025\n",
       "1     1       -2000          0.025\n",
       "2     2       -2000          0.025\n",
       "3     3       -2000          0.025\n",
       "4     4       -2000          0.025\n",
       "5     5       -2000          0.025"
      ]
     },
     "execution_count": 4,
     "metadata": {},
     "output_type": "execute_result"
    }
   ],
   "source": [
    "df = pd.DataFrame({\n",
    "    \"year\": [0, 1, 2, 3, 4, 5],\n",
    "    \"cash_flows\": [12000, -2000, -2000, -2000, -2000, -2000],\n",
    "    \"interest_rate\": [0.025, 0.025, 0.025, 0.025, 0.025, 0.025]\n",
    "})\n",
    "df"
   ]
  },
  {
   "cell_type": "code",
   "execution_count": 5,
   "metadata": {},
   "outputs": [],
   "source": [
    "df[\"discount_factor\"] = 1 / (1 + df.interest_rate)**df.year"
   ]
  },
  {
   "cell_type": "code",
   "execution_count": 6,
   "metadata": {},
   "outputs": [
    {
     "data": {
      "text/html": [
       "<div>\n",
       "<style scoped>\n",
       "    .dataframe tbody tr th:only-of-type {\n",
       "        vertical-align: middle;\n",
       "    }\n",
       "\n",
       "    .dataframe tbody tr th {\n",
       "        vertical-align: top;\n",
       "    }\n",
       "\n",
       "    .dataframe thead th {\n",
       "        text-align: right;\n",
       "    }\n",
       "</style>\n",
       "<table border=\"1\" class=\"dataframe\">\n",
       "  <thead>\n",
       "    <tr style=\"text-align: right;\">\n",
       "      <th></th>\n",
       "      <th>year</th>\n",
       "      <th>cash_flows</th>\n",
       "      <th>interest_rate</th>\n",
       "      <th>discount_factor</th>\n",
       "    </tr>\n",
       "  </thead>\n",
       "  <tbody>\n",
       "    <tr>\n",
       "      <th>0</th>\n",
       "      <td>0</td>\n",
       "      <td>12000</td>\n",
       "      <td>0.025</td>\n",
       "      <td>1.000000</td>\n",
       "    </tr>\n",
       "    <tr>\n",
       "      <th>1</th>\n",
       "      <td>1</td>\n",
       "      <td>-2000</td>\n",
       "      <td>0.025</td>\n",
       "      <td>0.975610</td>\n",
       "    </tr>\n",
       "    <tr>\n",
       "      <th>2</th>\n",
       "      <td>2</td>\n",
       "      <td>-2000</td>\n",
       "      <td>0.025</td>\n",
       "      <td>0.951814</td>\n",
       "    </tr>\n",
       "    <tr>\n",
       "      <th>3</th>\n",
       "      <td>3</td>\n",
       "      <td>-2000</td>\n",
       "      <td>0.025</td>\n",
       "      <td>0.928599</td>\n",
       "    </tr>\n",
       "    <tr>\n",
       "      <th>4</th>\n",
       "      <td>4</td>\n",
       "      <td>-2000</td>\n",
       "      <td>0.025</td>\n",
       "      <td>0.905951</td>\n",
       "    </tr>\n",
       "    <tr>\n",
       "      <th>5</th>\n",
       "      <td>5</td>\n",
       "      <td>-2000</td>\n",
       "      <td>0.025</td>\n",
       "      <td>0.883854</td>\n",
       "    </tr>\n",
       "  </tbody>\n",
       "</table>\n",
       "</div>"
      ],
      "text/plain": [
       "   year  cash_flows  interest_rate  discount_factor\n",
       "0     0       12000          0.025         1.000000\n",
       "1     1       -2000          0.025         0.975610\n",
       "2     2       -2000          0.025         0.951814\n",
       "3     3       -2000          0.025         0.928599\n",
       "4     4       -2000          0.025         0.905951\n",
       "5     5       -2000          0.025         0.883854"
      ]
     },
     "execution_count": 6,
     "metadata": {},
     "output_type": "execute_result"
    }
   ],
   "source": [
    "df"
   ]
  },
  {
   "cell_type": "code",
   "execution_count": 7,
   "metadata": {},
   "outputs": [
    {
     "data": {
      "text/html": [
       "<div>\n",
       "<style scoped>\n",
       "    .dataframe tbody tr th:only-of-type {\n",
       "        vertical-align: middle;\n",
       "    }\n",
       "\n",
       "    .dataframe tbody tr th {\n",
       "        vertical-align: top;\n",
       "    }\n",
       "\n",
       "    .dataframe thead th {\n",
       "        text-align: right;\n",
       "    }\n",
       "</style>\n",
       "<table border=\"1\" class=\"dataframe\">\n",
       "  <thead>\n",
       "    <tr style=\"text-align: right;\">\n",
       "      <th></th>\n",
       "      <th>year</th>\n",
       "      <th>cash_flows</th>\n",
       "      <th>interest_rate</th>\n",
       "      <th>discount_factor</th>\n",
       "      <th>present_value</th>\n",
       "    </tr>\n",
       "  </thead>\n",
       "  <tbody>\n",
       "    <tr>\n",
       "      <th>0</th>\n",
       "      <td>0</td>\n",
       "      <td>12000</td>\n",
       "      <td>0.025</td>\n",
       "      <td>1.000000</td>\n",
       "      <td>12000.000000</td>\n",
       "    </tr>\n",
       "    <tr>\n",
       "      <th>1</th>\n",
       "      <td>1</td>\n",
       "      <td>-2000</td>\n",
       "      <td>0.025</td>\n",
       "      <td>0.975610</td>\n",
       "      <td>-1951.219512</td>\n",
       "    </tr>\n",
       "    <tr>\n",
       "      <th>2</th>\n",
       "      <td>2</td>\n",
       "      <td>-2000</td>\n",
       "      <td>0.025</td>\n",
       "      <td>0.951814</td>\n",
       "      <td>-1903.628792</td>\n",
       "    </tr>\n",
       "    <tr>\n",
       "      <th>3</th>\n",
       "      <td>3</td>\n",
       "      <td>-2000</td>\n",
       "      <td>0.025</td>\n",
       "      <td>0.928599</td>\n",
       "      <td>-1857.198822</td>\n",
       "    </tr>\n",
       "    <tr>\n",
       "      <th>4</th>\n",
       "      <td>4</td>\n",
       "      <td>-2000</td>\n",
       "      <td>0.025</td>\n",
       "      <td>0.905951</td>\n",
       "      <td>-1811.901290</td>\n",
       "    </tr>\n",
       "    <tr>\n",
       "      <th>5</th>\n",
       "      <td>5</td>\n",
       "      <td>-2000</td>\n",
       "      <td>0.025</td>\n",
       "      <td>0.883854</td>\n",
       "      <td>-1767.708575</td>\n",
       "    </tr>\n",
       "  </tbody>\n",
       "</table>\n",
       "</div>"
      ],
      "text/plain": [
       "   year  cash_flows  interest_rate  discount_factor  present_value\n",
       "0     0       12000          0.025         1.000000   12000.000000\n",
       "1     1       -2000          0.025         0.975610   -1951.219512\n",
       "2     2       -2000          0.025         0.951814   -1903.628792\n",
       "3     3       -2000          0.025         0.928599   -1857.198822\n",
       "4     4       -2000          0.025         0.905951   -1811.901290\n",
       "5     5       -2000          0.025         0.883854   -1767.708575"
      ]
     },
     "execution_count": 7,
     "metadata": {},
     "output_type": "execute_result"
    }
   ],
   "source": [
    "df[\"present_value\"] = df.discount_factor * df.cash_flows\n",
    "df"
   ]
  },
  {
   "cell_type": "code",
   "execution_count": 8,
   "metadata": {},
   "outputs": [
    {
     "name": "stdout",
     "output_type": "stream",
     "text": [
      "$2,708.0\n"
     ]
    }
   ],
   "source": [
    "print(f\"${round(df.present_value.sum()):,}\")"
   ]
  },
  {
   "cell_type": "code",
   "execution_count": 9,
   "metadata": {},
   "outputs": [],
   "source": [
    "# df.to_excel(\"discounted_cash_flow.xlsx\", sheet_name=\"discounted_cash_flow\")"
   ]
  }
 ],
 "metadata": {
  "kernelspec": {
   "display_name": "Python 3",
   "language": "python",
   "name": "python3"
  },
  "language_info": {
   "codemirror_mode": {
    "name": "ipython",
    "version": 3
   },
   "file_extension": ".py",
   "mimetype": "text/x-python",
   "name": "python",
   "nbconvert_exporter": "python",
   "pygments_lexer": "ipython3",
   "version": "3.7.7"
  }
 },
 "nbformat": 4,
 "nbformat_minor": 4
}
