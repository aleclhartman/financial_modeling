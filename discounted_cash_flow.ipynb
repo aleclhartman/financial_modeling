{
 "cells": [
  {
   "cell_type": "markdown",
   "metadata": {},
   "source": [
    "# Discounted Cash Flow"
   ]
  },
  {
   "cell_type": "code",
   "execution_count": 1,
   "metadata": {},
   "outputs": [],
   "source": [
    "import numpy as np\n",
    "import pandas as pd"
   ]
  },
  {
   "cell_type": "markdown",
   "metadata": {},
   "source": [
    "## What is the investment return I can expect if I invest my money?\n",
    "\n",
    "<p align=\"center\">\n",
    "  <img src=\"https://render.githubusercontent.com/render/math?math=\\LARGE FV_{t} = PV \\times (1 %2B r_{t})^{t}\"><br/>\n",
    "  <img src=\"https://render.githubusercontent.com/render/math?math=FV_{t}:\\Future+\\value+\\at+\\time+\\t\"><br/>  \n",
    "  <img src=\"https://render.githubusercontent.com/render/math?math=PV:\\Present+\\value\"><br/> \n",
    "  <img src=\"https://render.githubusercontent.com/render/math?math=r_{t}:\\interest+\\rate+\\at+\\time+\\t\"><br/>\n",
    "</p>"
   ]
  },
  {
   "cell_type": "code",
   "execution_count": 2,
   "metadata": {},
   "outputs": [
    {
     "data": {
      "text/plain": [
       "880000.0000000001"
      ]
     },
     "execution_count": 2,
     "metadata": {},
     "output_type": "execute_result"
    }
   ],
   "source": [
    "# calculate future value of money by multiplying the present\n",
    "# value by the interest rate plus 1 raised to the length\n",
    "# of your investment\n",
    "\n",
    "# t == 1 year\n",
    "\n",
    "800000 * ((1 + .10)**1)"
   ]
  },
  {
   "cell_type": "markdown",
   "metadata": {},
   "source": [
    "## How much is the future $1,000,000 worth today?\n",
    "\n",
    "<p align=\"center\">\n",
    "  <br/><img src=\"https://render.githubusercontent.com/render/math?math=\\LARGE PV = \\frac{FV_{t}}{(1 %2B r_{t})^t}\"><br/>\n",
    "  <img src=\"https://render.githubusercontent.com/render/math?math=PV:\\Present+\\value\"><br/>  \n",
    "  <img src=\"https://render.githubusercontent.com/render/math?math=FV_{t}:\\Future+\\value+\\at+\\time+\\t\"><br/>\n",
    "  <img src=\"https://render.githubusercontent.com/render/math?math=r_{t}:\\interest+\\rate+\\at+\\time+\\t\"><br/>  \n",
    "</p>"
   ]
  },
  {
   "cell_type": "code",
   "execution_count": null,
   "metadata": {},
   "outputs": [],
   "source": []
  }
 ],
 "metadata": {
  "kernelspec": {
   "display_name": "Python 3",
   "language": "python",
   "name": "python3"
  },
  "language_info": {
   "codemirror_mode": {
    "name": "ipython",
    "version": 3
   },
   "file_extension": ".py",
   "mimetype": "text/x-python",
   "name": "python",
   "nbconvert_exporter": "python",
   "pygments_lexer": "ipython3",
   "version": "3.7.7"
  }
 },
 "nbformat": 4,
 "nbformat_minor": 4
}
